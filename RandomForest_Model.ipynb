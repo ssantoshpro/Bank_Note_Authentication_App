{
 "cells": [
  {
   "cell_type": "code",
   "execution_count": 47,
   "id": "3e08ed0b",
   "metadata": {},
   "outputs": [],
   "source": [
    "#Importing Libraries\n",
    "\n",
    "import pandas as pd\n",
    "import numpy as np\n",
    "import pickle\n",
    "\n",
    "from sklearn.model_selection import train_test_split\n",
    "from sklearn.ensemble import RandomForestClassifier\n",
    "from sklearn.metrics import precision_recall_fscore_support, accuracy_score"
   ]
  },
  {
   "cell_type": "code",
   "execution_count": 18,
   "id": "9c0c7373",
   "metadata": {},
   "outputs": [
    {
     "name": "stdout",
     "output_type": "stream",
     "text": [
      "   variance  skewness  curtosis  entropy\n",
      "0   3.62160    8.6661   -2.8073 -0.44699\n",
      "1   4.54590    8.1674   -2.4586 -1.46210\n",
      "2   3.86600   -2.6383    1.9242  0.10645\n",
      "3   3.45660    9.5228   -4.0112 -3.59440\n",
      "4   0.32924   -4.4552    4.5718 -0.98880 \n",
      "\n",
      "0    0\n",
      "1    0\n",
      "2    0\n",
      "3    0\n",
      "4    0\n",
      "Name: class, dtype: int64\n"
     ]
    }
   ],
   "source": [
    "#Loading data set\n",
    "\n",
    "data = pd.read_csv(\"C:\\\\Users\\ssant\\Downloads\\BankNote_Authentication.csv\")\n",
    "src_data = data.drop('class',axis=1)\n",
    "tgt_data = data['class']\n",
    "\n",
    "print(src_data.head(),'\\n')\n",
    "print(tgt_data.head())"
   ]
  },
  {
   "cell_type": "code",
   "execution_count": 45,
   "id": "232e2680",
   "metadata": {},
   "outputs": [
    {
     "name": "stdout",
     "output_type": "stream",
     "text": [
      "precision \t: [0.99061033 0.99418605]\n",
      " recall \t: [0.99528302 0.98843931]\n",
      "  fscore \t: [0.99294118 0.99130435]\n",
      "  support \t: [212 173]\n",
      " \n"
     ]
    }
   ],
   "source": [
    "#Split training and test data\n",
    "\n",
    "X_train, X_test, y_train, y_test = train_test_split(src_data,tgt_data,test_size=0.28, random_state=69)\n",
    "\n",
    "rf_model = RandomForestClassifier(n_estimators=100,n_jobs=-1)\n",
    "\n",
    "rf_model.fit(X_train,y_train)\n",
    "\n",
    "y_pred = rf_model.predict(X_test)\n",
    "\n",
    "accuracy= accuracy_score(y_test,y_pred)\n",
    "precision, recall, fscore, support = precision_recall_fscore_support(y_test,y_pred)\n",
    "print(\"precision \\t: {}\\n recall \\t: {}\\n  fscore \\t: {}\\n  support \\t: {}\\n \".format(precision, recall, fscore, support))\n",
    "\n"
   ]
  },
  {
   "cell_type": "code",
   "execution_count": 49,
   "id": "31a0b601",
   "metadata": {},
   "outputs": [],
   "source": [
    "pickle.dump(rf_model, open('RFClassifier.pkl', 'wb'))"
   ]
  }
 ],
 "metadata": {
  "kernelspec": {
   "display_name": "Python 3 (ipykernel)",
   "language": "python",
   "name": "python3"
  },
  "language_info": {
   "codemirror_mode": {
    "name": "ipython",
    "version": 3
   },
   "file_extension": ".py",
   "mimetype": "text/x-python",
   "name": "python",
   "nbconvert_exporter": "python",
   "pygments_lexer": "ipython3",
   "version": "3.10.9"
  }
 },
 "nbformat": 4,
 "nbformat_minor": 5
}
